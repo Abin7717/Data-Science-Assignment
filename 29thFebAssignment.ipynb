{
 "cells": [
  {
   "attachments": {},
   "cell_type": "markdown",
   "metadata": {},
   "source": [
    "1) Python was developed by Guido van Rossum"
   ]
  },
  {
   "attachments": {},
   "cell_type": "markdown",
   "metadata": {},
   "source": [
    "2) Python Supports object-oriented programming language"
   ]
  },
  {
   "attachments": {},
   "cell_type": "markdown",
   "metadata": {},
   "source": [
    "3) Yes,Python case sensitive when dealing with identifiers"
   ]
  },
  {
   "attachments": {},
   "cell_type": "markdown",
   "metadata": {},
   "source": [
    "4. The Correct extension of a python file is '.py'"
   ]
  },
  {
   "attachments": {},
   "cell_type": "markdown",
   "metadata": {},
   "source": [
    "5. Python is a interpreted language"
   ]
  },
  {
   "attachments": {},
   "cell_type": "markdown",
   "metadata": {},
   "source": [
    "6.In Python, there are several important blocks of code that are used for defining various elements.<br>\n",
    "\n",
    "\n"
   ]
  },
  {
   "cell_type": "code",
   "execution_count": 1,
   "metadata": {},
   "outputs": [
    {
     "name": "stdout",
     "output_type": "stream",
     "text": [
      "Hello World\n"
     ]
    }
   ],
   "source": [
    "#Function Definition\n",
    "def func1():\n",
    "    print(\"Hello World\")\n",
    "func1()\n",
    "#This block defines a function with the specified name, arguments, and code block. It may also include a return statement to provide a result.\n",
    "\n"
   ]
  },
  {
   "cell_type": "code",
   "execution_count": 4,
   "metadata": {},
   "outputs": [],
   "source": [
    "#Class Definition:\n",
    "class MyClass:\n",
    "    pass\n",
    "#This block defines a class with the specified name and code block. It may contain methods, which are functions defined within the class."
   ]
  },
  {
   "cell_type": "code",
   "execution_count": 6,
   "metadata": {},
   "outputs": [
    {
     "name": "stdout",
     "output_type": "stream",
     "text": [
      "a is less than b\n"
     ]
    }
   ],
   "source": [
    "#Conditional Statements:\n",
    "a=20\n",
    "b=30\n",
    "if a > b:\n",
    "    print(\"a is greater than b\")\n",
    "elif a == b:\n",
    "    print(\"a is equal to b\")\n",
    "else:\n",
    "    print(\"a is less than b\")\n",
    "#This block allows you to perform different actions based on different conditions. You can use if, elif (short for \"else if\"), and else to define the code blocks for each conditio\n",
    "    "
   ]
  },
  {
   "cell_type": "code",
   "execution_count": 8,
   "metadata": {},
   "outputs": [
    {
     "name": "stdout",
     "output_type": "stream",
     "text": [
      "0\n",
      "1\n",
      "2\n",
      "3\n",
      "4\n"
     ]
    }
   ],
   "source": [
    "#Loop Statements:\n",
    "for i in range(5):\n",
    "    print(i)\n",
    "#The for loop is used to iterate over elements in an iterable (such as a list or string), executing the code block for each iteration. The while loop continues to execute the code block as long as the specified condition is true.\n",
    "\n"
   ]
  },
  {
   "cell_type": "code",
   "execution_count": 9,
   "metadata": {},
   "outputs": [
    {
     "data": {
      "text/plain": [
       "'try:\\n    # Code block\\nexcept ExceptionType:\\n    # Code block\\nfinally:\\n    # Code block\\n'"
      ]
     },
     "execution_count": 9,
     "metadata": {},
     "output_type": "execute_result"
    }
   ],
   "source": [
    "#Exception Handling:\n",
    "\"\"\"try:\n",
    "    # Code block\n",
    "except ExceptionType:\n",
    "    # Code block\n",
    "finally:\n",
    "    # Code block\n",
    "\"\"\"\n",
    "#This block is used to handle exceptions (errors) that may occur during program execution. The code block within the try block is executed, and if an exception of the specified type occurs, the corresponding except block is executed. The finally block is optional and is executed regardless of whether an exception occurs\n"
   ]
  },
  {
   "attachments": {},
   "cell_type": "markdown",
   "metadata": {},
   "source": [
    "7.  \"#\" is used to give single line comments in python"
   ]
  },
  {
   "attachments": {},
   "cell_type": "markdown",
   "metadata": {},
   "source": []
  },
  {
   "attachments": {},
   "cell_type": "markdown",
   "metadata": {},
   "source": [
    "8. sys.version can help us to find the best version of python"
   ]
  },
  {
   "attachments": {},
   "cell_type": "markdown",
   "metadata": {},
   "source": []
  },
  {
   "attachments": {},
   "cell_type": "markdown",
   "metadata": {},
   "source": [
    "9. lambda"
   ]
  },
  {
   "attachments": {},
   "cell_type": "markdown",
   "metadata": {},
   "source": [
    "10. It is the standard tool for installing packages and their dependencies in a secure manner"
   ]
  },
  {
   "attachments": {},
   "cell_type": "markdown",
   "metadata": {},
   "source": [
    "11.\n",
    "abs()-Returns the absolute value of a number<br>\n",
    "all()-Returns True if all items in an iterable object are true<br>\n",
    "any()-Returns True if any item in an iterable object is true<br>\n",
    "float()-Returns a floating point number<br>\n",
    "hash()-Returns the hash value of a specified object\n",
    "\n",
    "\n",
    "\n",
    "\n",
    "\n"
   ]
  },
  {
   "attachments": {},
   "cell_type": "markdown",
   "metadata": {},
   "source": [
    "12. An Identifier can have a maximum length of 79 characters in Python"
   ]
  },
  {
   "attachments": {},
   "cell_type": "markdown",
   "metadata": {},
   "source": [
    "13.Presence of third-party modules <br>\n",
    "Extensive support libraries(NumPy for numerical calculations,Pandas for data analytics, etc.) <br>\n",
    "Open source and large active community base <br>\n",
    "Versatile, Easy to read, learn and write <br>\n",
    "User-friendly data structures <br>\n",
    "High-level language <br>\n",
    "Dynamically typed language(No need to mention data type based on the value assigned, it takes data type) <br>\n",
    "Object-Oriented and Procedural  Programming language <br>\n",
    "Portable and Interactive<br>\n"
   ]
  },
  {
   "attachments": {},
   "cell_type": "markdown",
   "metadata": {},
   "source": [
    "14.Memory management in Python involves a private heap containing all Python objects and data structures. The management of this private heap is ensured internally by the Python memory manager. "
   ]
  },
  {
   "attachments": {},
   "cell_type": "markdown",
   "metadata": {},
   "source": [
    "15.Download Python:\n",
    "\n",
    "Visit the official Python website at https://www.python.org/.\n",
    "Click on the \"Downloads\" tab.\n",
    "Choose the latest version of Python for Windows, typically shown as \"Latest Python X.Y.Z\".\n",
    "Scroll down and select the appropriate installer for your system. If you have a 64-bit version of Windows, choose the 64-bit installer. Otherwise, choose the 32-bit installer.\n",
    "Click on the installer to start the download.\n",
    "Run the Python installer:\n",
    "\n",
    "Locate the downloaded installer and double-click on it.\n",
    "Check the box that says \"Add Python X.Y to PATH\" (X.Y represents the version number).\n",
    "Select the \"Customize installation\" option.\n",
    "Choose the installation location or leave it as the default.\n",
    "Select the optional features you want to install. For most users, the default selections are sufficient.\n",
    "Check the box that says \"Install launcher for all users (recommended)\".\n",
    "Click on the \"Install\" button to start the installation process.\n",
    "Add Python to the PATH environment variable:\n",
    "\n",
    "Press the Windows key + R to open the Run dialog.\n",
    "Type \"sysdm.cpl\" and press Enter to open the System Properties window.\n",
    "Click on the \"Advanced\" tab.\n",
    "Click on the \"Environment Variables\" button.\n",
    "In the \"System variables\" section, scroll down and select the \"Path\" variable.\n",
    "Click on the \"Edit\" button.\n",
    "In the \"Edit Environment Variable\" window, click on the \"New\" button.\n",
    "Type in the path of the Python installation directory. The default path is usually \"C:\\PythonX.Y\" (X.Y represents the version number).\n",
    "Click \"OK\" to close all the windows.\n",
    "Verify the Python installation:\n",
    "\n",
    "Open the Command Prompt by pressing the Windows key + R, then typing \"cmd\" and pressing Enter.\n",
    "In the Command Prompt, type \"python\" and press Enter.\n",
    "If Python is correctly installed, you should see the Python version and the interactive Python shell (>>> prompt) displayed."
   ]
  },
  {
   "attachments": {},
   "cell_type": "markdown",
   "metadata": {},
   "source": [
    "16.Indentation is important to Python, because it's how you determine scope. Scope is how Python knows what code belongs to what part of the program."
   ]
  },
  {
   "attachments": {},
   "cell_type": "markdown",
   "metadata": {},
   "source": []
  }
 ],
 "metadata": {
  "kernelspec": {
   "display_name": "Python 3",
   "language": "python",
   "name": "python3"
  },
  "language_info": {
   "codemirror_mode": {
    "name": "ipython",
    "version": 3
   },
   "file_extension": ".py",
   "mimetype": "text/x-python",
   "name": "python",
   "nbconvert_exporter": "python",
   "pygments_lexer": "ipython3",
   "version": "3.10.7"
  },
  "orig_nbformat": 4
 },
 "nbformat": 4,
 "nbformat_minor": 2
}
