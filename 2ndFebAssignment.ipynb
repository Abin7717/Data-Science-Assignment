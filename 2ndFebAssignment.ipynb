{
 "cells": [
  {
   "attachments": {},
   "cell_type": "markdown",
   "metadata": {},
   "source": [
    "Q1)<br>\n",
    "1.1 The characteristic of tuples are as follows:<br>\n",
    "1) Tuples are ordered,indexed collections of data <br>\n",
    "2) Tuples can store duplicate values\n",
    "3) Once the data is assigned then the values cannot be changed<br>\n",
    "4) Tuples allows you to store multiple data items in one variable<br>\n",
    "\n",
    "1.2) Yes, the Tuples are immutable\n"
   ]
  },
  {
   "attachments": {},
   "cell_type": "markdown",
   "metadata": {},
   "source": [
    "Q2) The 2 tuple methods present in python are <br>\n",
    "2.1) count()-Returns the number of times a specified value occurs in a tuple <br>\n",
    "2.2) index()-Searches the tuple for a specified value and returns the position of where it was found <br>"
   ]
  },
  {
   "cell_type": "code",
   "execution_count": 4,
   "metadata": {},
   "outputs": [
    {
     "name": "stdout",
     "output_type": "stream",
     "text": [
      "4\n",
      "11\n"
     ]
    }
   ],
   "source": [
    "atupple=(1,2,3,4,5,6,7,7,7,7,8,9)\n",
    "print(atupple.count(7)) #Here is the example of count function in tuple\n",
    "print(atupple.index(9)) #Here is the example of index function in tuple"
   ]
  },
  {
   "attachments": {},
   "cell_type": "markdown",
   "metadata": {},
   "source": [
    "Tuples have only two built-in functions (count and index) compared to lists for the following reasons:\n",
    "\n",
    "Immutability: Tuples are immutable, meaning their elements cannot be modified once created. This immutability allows tuples to be used as keys in dictionaries and elements in sets. Since tuples are not designed to be modified, there is no need for methods such as append, insert, or remove that modify the tuple's contents.\n",
    "\n",
    "Simplicity and Efficiency: Tuples are designed to be lightweight and efficient data structures. By limiting the number of built-in functions, tuples remain simple and optimized for certain use cases. Having fewer built-in functions reduces the complexity and memory overhead associated with tuples, making them more efficient in terms of memory usage and performance.\n",
    "\n",
    "Intended Use: Tuples are commonly used to store related pieces of data together, such as coordinates, dates, or database records. They are often used in scenarios where immutability and integrity of the data are important. The limited number of built-in functions for tuples encourages a more straightforward and predictable usage pattern, aligning with their intended purpose as fixed collections of elements."
   ]
  },
  {
   "attachments": {},
   "cell_type": "markdown",
   "metadata": {},
   "source": [
    "Q3) Set does not allow duplicate items in its collection\n"
   ]
  },
  {
   "cell_type": "code",
   "execution_count": 5,
   "metadata": {},
   "outputs": [
    {
     "name": "stdout",
     "output_type": "stream",
     "text": [
      "{1, 2, 3, 4, 5, 6, 7, 8, 9}\n"
     ]
    }
   ],
   "source": [
    "#Using set to remove duplicate values from list\n",
    "a=[1,2,3,4,5,6,7,7,7,7,8,9]\n",
    "b=set(a)\n",
    "print(b)"
   ]
  },
  {
   "attachments": {},
   "cell_type": "markdown",
   "metadata": {},
   "source": [
    "Q4) In python sets, the union method and the update method are both used to combine multiple sets together.However, there is a key difference in how they handle the orginal sets and the resulting sets<br>\n",
    "4.1) Union method:<br>\n",
    "Syntax:set1.union(set2,set3....)<br>\n",
    "Returns a new set that is the union of all the sets passed as arguments,including the elements from all the set without the duplicates<br>\n",
    "The orginal sets remain unchanged; the union method does not modify them."
   ]
  },
  {
   "cell_type": "code",
   "execution_count": 6,
   "metadata": {},
   "outputs": [
    {
     "name": "stdout",
     "output_type": "stream",
     "text": [
      "{1, 2, 3, 4, 5}\n",
      "{1, 2, 3}\n"
     ]
    }
   ],
   "source": [
    "set1 = {1, 2, 3}\n",
    "set2 = {3, 4, 5}\n",
    "union_set = set1.union(set2)\n",
    "print(union_set)  # Output: {1, 2, 3, 4, 5}\n",
    "print(set1)  # Output: {1, 2, 3} (unchanged)\n"
   ]
  },
  {
   "attachments": {},
   "cell_type": "markdown",
   "metadata": {},
   "source": [
    "Update method:<br>\n",
    "Syntax:set1.update(set2,set3,set4....)<br>\n",
    "Modifies the set set1 by adding all the elements from the other sets passed as arguments.<br>\n",
    "The update method modifies the original set in place<br>"
   ]
  },
  {
   "cell_type": "code",
   "execution_count": 7,
   "metadata": {},
   "outputs": [
    {
     "name": "stdout",
     "output_type": "stream",
     "text": [
      "{1, 2, 3, 4, 5}\n"
     ]
    }
   ],
   "source": [
    "set1 = {1, 2, 3}\n",
    "set2 = {3, 4, 5}\n",
    "set1.update(set2)\n",
    "print(set1)  # Output: {1, 2, 3, 4, 5}\n"
   ]
  },
  {
   "attachments": {},
   "cell_type": "markdown",
   "metadata": {},
   "source": [
    "Q5) Dictionaries are used to store data values in key-value pairs<br>\n",
    "A dictionary is a collection which is ordered and changeable and does not allow duplicates<br>\n"
   ]
  },
  {
   "cell_type": "code",
   "execution_count": 1,
   "metadata": {},
   "outputs": [
    {
     "name": "stdout",
     "output_type": "stream",
     "text": [
      "{'name': 'sagar', 'age': 22, 'address': 'kathmandu'}\n"
     ]
    }
   ],
   "source": [
    "dict={\"name\":\"sagar\",\"age\":22,\"address\":\"kathmandu\"}\n",
    "print(dict)"
   ]
  },
  {
   "attachments": {},
   "cell_type": "markdown",
   "metadata": {},
   "source": [
    "Dictionaries were unordered until python 3.6 ,after the release of python 3.7 it is now ordered"
   ]
  },
  {
   "attachments": {},
   "cell_type": "markdown",
   "metadata": {},
   "source": [
    "Q6) Yes, we can create nested dictionary"
   ]
  },
  {
   "cell_type": "code",
   "execution_count": 3,
   "metadata": {},
   "outputs": [
    {
     "name": "stdout",
     "output_type": "stream",
     "text": [
      "{'Udemy': {'courses': 'python', 'price': 1000}, 'coursera': {'courses': 'java', 'price': 2000}}\n"
     ]
    }
   ],
   "source": [
    "dict1={\"Udemy\":{\"courses\":\"python\",\"price\":1000},\"coursera\":{\"courses\":\"java\",\"price\":2000}} #Nested dictionary\n",
    "print(dict1)"
   ]
  },
  {
   "cell_type": "code",
   "execution_count": 10,
   "metadata": {},
   "outputs": [
    {
     "name": "stdout",
     "output_type": "stream",
     "text": [
      "None\n"
     ]
    },
    {
     "data": {
      "text/plain": [
       "{'language': 'Python',\n",
       " 'course': 'Data Science',\n",
       " 'topics': ['Python', 'Machine Learning', 'Deep Learning']}"
      ]
     },
     "execution_count": 10,
     "metadata": {},
     "output_type": "execute_result"
    }
   ],
   "source": [
    "# Q7 Setdefault function in dictionary\n",
    "dict1={'language': 'Python', 'course': 'Data Science'}\n",
    "print(dict1.setdefault('topics'))\n",
    "dict1['topics'] =['Python','Machine Learning','Deep Learning']\n",
    "dict1"
   ]
  },
  {
   "attachments": {},
   "cell_type": "markdown",
   "metadata": {},
   "source": [
    "Q8) The 3 view objects in dictionaries are:<br>\n",
    "1) Key\n",
    "2) Value\n",
    "3) Items"
   ]
  },
  {
   "cell_type": "code",
   "execution_count": 15,
   "metadata": {},
   "outputs": [
    {
     "data": {
      "text/plain": [
       "dict_items([('Sport', 'Cricket'), ('Teams', ['India', 'Australia', 'England', 'South Africa', 'Sri Lanka', 'New Zealand'])])"
      ]
     },
     "execution_count": 15,
     "metadata": {},
     "output_type": "execute_result"
    }
   ],
   "source": [
    "dict2={'Sport':'Cricket','Teams':['India','Australia','England','South Africa','Sri Lanka','New Zealand']}\n",
    "dict2.keys() #Returns all the keys in the dictionary\n",
    "dict2.values() #Returns all the values in the dictionary\n",
    "dict2.items() #Returns all the items in the dictionary"
   ]
  },
  {
   "cell_type": "code",
   "execution_count": null,
   "metadata": {},
   "outputs": [],
   "source": []
  },
  {
   "cell_type": "code",
   "execution_count": null,
   "metadata": {},
   "outputs": [],
   "source": []
  }
 ],
 "metadata": {
  "kernelspec": {
   "display_name": "Python 3",
   "language": "python",
   "name": "python3"
  },
  "language_info": {
   "codemirror_mode": {
    "name": "ipython",
    "version": 3
   },
   "file_extension": ".py",
   "mimetype": "text/x-python",
   "name": "python",
   "nbconvert_exporter": "python",
   "pygments_lexer": "ipython3",
   "version": "3.10.7"
  },
  "orig_nbformat": 4
 },
 "nbformat": 4,
 "nbformat_minor": 2
}
