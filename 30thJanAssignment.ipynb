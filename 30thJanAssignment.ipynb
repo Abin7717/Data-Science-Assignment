{
 "cells": [
  {
   "cell_type": "code",
   "execution_count": null,
   "metadata": {},
   "outputs": [],
   "source": [
    "#1\n",
    "def score():\n",
    "    marks=int(input(\"Enter your marks: \"))\n",
    "    if marks>90:\n",
    "        print(\"Grade A\")\n",
    "    elif marks>80 and marks<=90:\n",
    "        print(\"Grade B\")\n",
    "    elif marks>=60 and marks<=80:\n",
    "        print(\"Grade C\")\n",
    "    else:\n",
    "        print(\"Grade D\")\n",
    "score()\n",
    "    "
   ]
  },
  {
   "cell_type": "code",
   "execution_count": null,
   "metadata": {},
   "outputs": [],
   "source": [
    "#2\n",
    "def price():\n",
    "    t_price=int(input(\"Enter the price of the price: \"))\n",
    "    if t_price>100000:\n",
    "        print(\"The total cost after tax is \",t_price+t_price*15/100)\n",
    "    elif t_price>50000 and t_price<=100000:\n",
    "        print(\"The total cost after tax is \",t_price+t_price*10/100)\n",
    "    else:\n",
    "        print(\"The total cost after tax is \",t_price+t_price*5/100)\n",
    "price()"
   ]
  },
  {
   "cell_type": "code",
   "execution_count": null,
   "metadata": {},
   "outputs": [],
   "source": [
    "#3\n",
    "class tour:\n",
    "    def __init__(self):\n",
    "        self.state=input(\"Enter the state: \")\n",
    "        if self.state==\"Delhi\":\n",
    "            print(\"The Monument is Red Fort\")\n",
    "        elif self.state==\"Agra\":\n",
    "            print(\"The Monument is Taj Mahal\")\n",
    "        elif self.state==\"Jaipur\":\n",
    "            print(\"The Monument is Jal Mahal\")\n",
    "        else:\n",
    "            print( \"List not mentioned\")\n",
    "t=tour()\n"
   ]
  },
  {
   "cell_type": "code",
   "execution_count": null,
   "metadata": {},
   "outputs": [],
   "source": [
    "#4\n",
    "def num():\n",
    "    count=0\n",
    "    a=int(input(\"Enter the number: \"))\n",
    "    while a>10:\n",
    "        a=a/3\n",
    "        count=count+1\n",
    "    return(count)\n",
    "num()\n"
   ]
  },
  {
   "attachments": {},
   "cell_type": "markdown",
   "metadata": {},
   "source": [
    "5.Python While Loop is used to execute a block of statements repeatedly until a given condition is satisfied. And when the condition becomes false, the line immediately after the loop in the program is executed.\n"
   ]
  },
  {
   "cell_type": "code",
   "execution_count": null,
   "metadata": {},
   "outputs": [],
   "source": [
    "def num():\n",
    "    count=0\n",
    "    a=int(input(\"Enter the number: \"))\n",
    "    while a>10:\n",
    "        a=a/3\n",
    "        count=count+1\n",
    "    return(count)\n",
    "num()\n"
   ]
  },
  {
   "cell_type": "code",
   "execution_count": null,
   "metadata": {},
   "outputs": [],
   "source": [
    "#6\n",
    "#6.1\n",
    "n=5\n",
    "for i in range(n):\n",
    "    for j in range(n):\n",
    "        print(\"*\",end=\" \") #end=\" \" is used to print the output in the same line\n",
    "    print()\n",
    "\n",
    "        "
   ]
  },
  {
   "cell_type": "code",
   "execution_count": null,
   "metadata": {},
   "outputs": [],
   "source": [
    "#6.2\n",
    "n=5\n",
    "for i in range(n):\n",
    "    for j in range(i+1):\n",
    "        print(\"*\",end=\" \")\n",
    "    print() "
   ]
  },
  {
   "cell_type": "code",
   "execution_count": null,
   "metadata": {},
   "outputs": [],
   "source": [
    "#6.3\n",
    "n = 5  # Number of rows\n",
    "space = n - 1\n",
    "star = 1\n",
    "\n",
    "# Upper half of the diamond\n",
    "for i in range(n):\n",
    "    for j in range(space):\n",
    "        print(\" \", end=\"\")\n",
    "    for j in range(star):\n",
    "        print(\"*\", end=\"\")\n",
    "    print()\n",
    "    space -= 1\n",
    "    star += 2\n",
    "\n",
    "space = 1\n",
    "star = 2 * (n - 1) - 1\n",
    "\n",
    "# Lower half of the diamond\n",
    "for i in range(n - 1):\n",
    "    for j in range(space):\n",
    "        print(\" \", end=\"\")\n",
    "    for j in range(star):\n",
    "        print(\"*\", end=\"\")\n",
    "    print()\n",
    "    space += 1\n",
    "    star -= 2\n"
   ]
  },
  {
   "cell_type": "code",
   "execution_count": null,
   "metadata": {},
   "outputs": [],
   "source": []
  },
  {
   "cell_type": "code",
   "execution_count": null,
   "metadata": {},
   "outputs": [],
   "source": []
  }
 ],
 "metadata": {
  "kernelspec": {
   "display_name": "Python 3",
   "language": "python",
   "name": "python3"
  },
  "language_info": {
   "codemirror_mode": {
    "name": "ipython",
    "version": 3
   },
   "file_extension": ".py",
   "mimetype": "text/x-python",
   "name": "python",
   "nbconvert_exporter": "python",
   "pygments_lexer": "ipython3",
   "version": "3.10.7"
  },
  "orig_nbformat": 4
 },
 "nbformat": 4,
 "nbformat_minor": 2
}
